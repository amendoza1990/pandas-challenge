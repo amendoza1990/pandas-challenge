{
 "cells": [
  {
   "cell_type": "markdown",
   "metadata": {},
   "source": [
    "### Note\n",
    "* Instructions have been included for each segment. You do not have to follow them exactly, but they are included to help you think through the steps."
   ]
  },
  {
   "cell_type": "code",
   "execution_count": 27,
   "metadata": {},
   "outputs": [
    {
     "output_type": "execute_result",
     "data": {
      "text/plain": [
       "       Student ID       student_name gender grade         school_name  \\\n",
       "0               0       Paul Bradley      M   9th   Huang High School   \n",
       "1               1       Victor Smith      M  12th   Huang High School   \n",
       "2               2    Kevin Rodriguez      M  12th   Huang High School   \n",
       "3               3  Dr. Richard Scott      M  12th   Huang High School   \n",
       "4               4         Bonnie Ray      F   9th   Huang High School   \n",
       "...           ...                ...    ...   ...                 ...   \n",
       "39165       39165       Donna Howard      F  12th  Thomas High School   \n",
       "39166       39166          Dawn Bell      F  10th  Thomas High School   \n",
       "39167       39167     Rebecca Tanner      F   9th  Thomas High School   \n",
       "39168       39168       Desiree Kidd      F  10th  Thomas High School   \n",
       "39169       39169    Carolyn Jackson      F  11th  Thomas High School   \n",
       "\n",
       "       reading_score  math_score  School ID      type  size   budget  \n",
       "0                 66          79          0  District  2917  1910635  \n",
       "1                 94          61          0  District  2917  1910635  \n",
       "2                 90          60          0  District  2917  1910635  \n",
       "3                 67          58          0  District  2917  1910635  \n",
       "4                 97          84          0  District  2917  1910635  \n",
       "...              ...         ...        ...       ...   ...      ...  \n",
       "39165             99          90         14   Charter  1635  1043130  \n",
       "39166             95          70         14   Charter  1635  1043130  \n",
       "39167             73          84         14   Charter  1635  1043130  \n",
       "39168             99          90         14   Charter  1635  1043130  \n",
       "39169             95          75         14   Charter  1635  1043130  \n",
       "\n",
       "[39170 rows x 11 columns]"
      ],
      "text/html": "<div>\n<style scoped>\n    .dataframe tbody tr th:only-of-type {\n        vertical-align: middle;\n    }\n\n    .dataframe tbody tr th {\n        vertical-align: top;\n    }\n\n    .dataframe thead th {\n        text-align: right;\n    }\n</style>\n<table border=\"1\" class=\"dataframe\">\n  <thead>\n    <tr style=\"text-align: right;\">\n      <th></th>\n      <th>Student ID</th>\n      <th>student_name</th>\n      <th>gender</th>\n      <th>grade</th>\n      <th>school_name</th>\n      <th>reading_score</th>\n      <th>math_score</th>\n      <th>School ID</th>\n      <th>type</th>\n      <th>size</th>\n      <th>budget</th>\n    </tr>\n  </thead>\n  <tbody>\n    <tr>\n      <th>0</th>\n      <td>0</td>\n      <td>Paul Bradley</td>\n      <td>M</td>\n      <td>9th</td>\n      <td>Huang High School</td>\n      <td>66</td>\n      <td>79</td>\n      <td>0</td>\n      <td>District</td>\n      <td>2917</td>\n      <td>1910635</td>\n    </tr>\n    <tr>\n      <th>1</th>\n      <td>1</td>\n      <td>Victor Smith</td>\n      <td>M</td>\n      <td>12th</td>\n      <td>Huang High School</td>\n      <td>94</td>\n      <td>61</td>\n      <td>0</td>\n      <td>District</td>\n      <td>2917</td>\n      <td>1910635</td>\n    </tr>\n    <tr>\n      <th>2</th>\n      <td>2</td>\n      <td>Kevin Rodriguez</td>\n      <td>M</td>\n      <td>12th</td>\n      <td>Huang High School</td>\n      <td>90</td>\n      <td>60</td>\n      <td>0</td>\n      <td>District</td>\n      <td>2917</td>\n      <td>1910635</td>\n    </tr>\n    <tr>\n      <th>3</th>\n      <td>3</td>\n      <td>Dr. Richard Scott</td>\n      <td>M</td>\n      <td>12th</td>\n      <td>Huang High School</td>\n      <td>67</td>\n      <td>58</td>\n      <td>0</td>\n      <td>District</td>\n      <td>2917</td>\n      <td>1910635</td>\n    </tr>\n    <tr>\n      <th>4</th>\n      <td>4</td>\n      <td>Bonnie Ray</td>\n      <td>F</td>\n      <td>9th</td>\n      <td>Huang High School</td>\n      <td>97</td>\n      <td>84</td>\n      <td>0</td>\n      <td>District</td>\n      <td>2917</td>\n      <td>1910635</td>\n    </tr>\n    <tr>\n      <th>...</th>\n      <td>...</td>\n      <td>...</td>\n      <td>...</td>\n      <td>...</td>\n      <td>...</td>\n      <td>...</td>\n      <td>...</td>\n      <td>...</td>\n      <td>...</td>\n      <td>...</td>\n      <td>...</td>\n    </tr>\n    <tr>\n      <th>39165</th>\n      <td>39165</td>\n      <td>Donna Howard</td>\n      <td>F</td>\n      <td>12th</td>\n      <td>Thomas High School</td>\n      <td>99</td>\n      <td>90</td>\n      <td>14</td>\n      <td>Charter</td>\n      <td>1635</td>\n      <td>1043130</td>\n    </tr>\n    <tr>\n      <th>39166</th>\n      <td>39166</td>\n      <td>Dawn Bell</td>\n      <td>F</td>\n      <td>10th</td>\n      <td>Thomas High School</td>\n      <td>95</td>\n      <td>70</td>\n      <td>14</td>\n      <td>Charter</td>\n      <td>1635</td>\n      <td>1043130</td>\n    </tr>\n    <tr>\n      <th>39167</th>\n      <td>39167</td>\n      <td>Rebecca Tanner</td>\n      <td>F</td>\n      <td>9th</td>\n      <td>Thomas High School</td>\n      <td>73</td>\n      <td>84</td>\n      <td>14</td>\n      <td>Charter</td>\n      <td>1635</td>\n      <td>1043130</td>\n    </tr>\n    <tr>\n      <th>39168</th>\n      <td>39168</td>\n      <td>Desiree Kidd</td>\n      <td>F</td>\n      <td>10th</td>\n      <td>Thomas High School</td>\n      <td>99</td>\n      <td>90</td>\n      <td>14</td>\n      <td>Charter</td>\n      <td>1635</td>\n      <td>1043130</td>\n    </tr>\n    <tr>\n      <th>39169</th>\n      <td>39169</td>\n      <td>Carolyn Jackson</td>\n      <td>F</td>\n      <td>11th</td>\n      <td>Thomas High School</td>\n      <td>95</td>\n      <td>75</td>\n      <td>14</td>\n      <td>Charter</td>\n      <td>1635</td>\n      <td>1043130</td>\n    </tr>\n  </tbody>\n</table>\n<p>39170 rows × 11 columns</p>\n</div>"
     },
     "metadata": {},
     "execution_count": 27
    }
   ],
   "source": [
    "# Dependencies and Setup\n",
    "import pandas as pd\n",
    "\n",
    "# File to Load (Remember to Change These)\n",
    "school_data_to_load = \"Resources/schools_complete.csv\"\n",
    "student_data_to_load = \"Resources/students_complete.csv\"\n",
    "\n",
    "# Read School and Student Data File and store into Pandas DataFrames\n",
    "school_data = pd.read_csv(school_data_to_load)\n",
    "student_data = pd.read_csv(student_data_to_load)\n",
    "\n",
    "# Combine the data into a single dataset.  \n",
    "school_data_complete = pd.merge(student_data, school_data, how=\"left\", on=[\"school_name\", \"school_name\"])\n",
    "\n",
    "school_data_complete\n",
    "\n"
   ]
  },
  {
   "cell_type": "markdown",
   "metadata": {},
   "source": [
    "## District Summary\n",
    "\n",
    "* Calculate the total number of schools\n",
    "\n",
    "* Calculate the total number of students\n",
    "\n",
    "* Calculate the total budget\n",
    "\n",
    "* Calculate the average math score \n",
    "\n",
    "* Calculate the average reading score\n",
    "\n",
    "* Calculate the percentage of students with a passing math score (70 or greater)\n",
    "\n",
    "* Calculate the percentage of students with a passing reading score (70 or greater)\n",
    "\n",
    "* Calculate the percentage of students who passed math **and** reading (% Overall Passing)\n",
    "\n",
    "* Create a dataframe to hold the above results\n",
    "\n",
    "* Optional: give the displayed data cleaner formatting"
   ]
  },
  {
   "cell_type": "code",
   "execution_count": 283,
   "metadata": {},
   "outputs": [
    {
     "output_type": "execute_result",
     "data": {
      "text/plain": [
       "   Total Schools Total Students    Total Budget Average Math Score  \\\n",
       "0             15         39,170  $24,649,428.00              78.99   \n",
       "\n",
       "  Average Reading Score % Passing Math % Passing Reading % Overall Passing  \n",
       "0                 81.88          74.98             85.81             65.17  "
      ],
      "text/html": "<div>\n<style scoped>\n    .dataframe tbody tr th:only-of-type {\n        vertical-align: middle;\n    }\n\n    .dataframe tbody tr th {\n        vertical-align: top;\n    }\n\n    .dataframe thead th {\n        text-align: right;\n    }\n</style>\n<table border=\"1\" class=\"dataframe\">\n  <thead>\n    <tr style=\"text-align: right;\">\n      <th></th>\n      <th>Total Schools</th>\n      <th>Total Students</th>\n      <th>Total Budget</th>\n      <th>Average Math Score</th>\n      <th>Average Reading Score</th>\n      <th>% Passing Math</th>\n      <th>% Passing Reading</th>\n      <th>% Overall Passing</th>\n    </tr>\n  </thead>\n  <tbody>\n    <tr>\n      <th>0</th>\n      <td>15</td>\n      <td>39,170</td>\n      <td>$24,649,428.00</td>\n      <td>78.99</td>\n      <td>81.88</td>\n      <td>74.98</td>\n      <td>85.81</td>\n      <td>65.17</td>\n    </tr>\n  </tbody>\n</table>\n</div>"
     },
     "metadata": {},
     "execution_count": 283
    }
   ],
   "source": [
    "#DISTRICT SUMMARY\n",
    "\n",
    "# Calculate the total number of schools\n",
    "total_schools = len(school_data)\n",
    "\n",
    "# Calculate the total number of students\n",
    "total_students = len(student_data)\n",
    "\n",
    "# Calculate the total budget\n",
    "total_budget = school_data[\"budget\"].sum()\n",
    "\n",
    "# Calculate the average math score\n",
    "average_mathscore = student_data [\"math_score\"].mean()\n",
    "\n",
    "# Calculate the average reading score\n",
    "average_readingscore = student_data [\"reading_score\"].mean()\n",
    "\n",
    "# Calculate the percentage of students with a passing math score (70 or greater)\n",
    "\n",
    "passing_math = (len(student_data[student_data.math_score >= 70])/total_students)*100\n",
    "\n",
    "# Calculate the percentage of students with a passing reading score (70 or greater)\n",
    "\n",
    "passing_reading = (len(student_data[student_data.reading_score >= 70])/total_students)*100\n",
    "\n",
    "# Calculate the percentage of students who passed math and reading (% Overall Passing)\n",
    "overall_passing = (len(student_data[(student_data.math_score >= 70) & \n",
    "                   (student_data.reading_score >= 70)])/total_students)*100\n",
    "\n",
    "# Create a dataframe to hold the above results\n",
    "\n",
    "results = pd.DataFrame({\"Total Schools\":[total_schools],\"Total Students\":[total_students],\"Total Budget\":[total_budget],\"Average Math Score\":[average_mathscore],\"Average Reading Score\":[average_readingscore],\"% Passing Math\":[passing_math],\"% Passing Reading\":[passing_reading], \"% Overall Passing\":[overall_passing]})\n",
    "\n",
    "\n",
    "# Optional: give the displayed data cleaner formatting\n",
    "\n",
    "results['Total Students'] = results['Total Students'].map(\"{:,}\".format)\n",
    "results['Total Budget'] = results['Total Budget'].map(\"${:,.2f}\".format)\n",
    "results['Average Math Score'] = results['Average Math Score'].map(\"{:.2f}\".format)\n",
    "results['Average Reading Score'] = results['Average Reading Score'].map(\"{:.2f}\".format)\n",
    "results['% Passing Math'] = results['% Passing Math'].map(\"{:.2f}\".format)\n",
    "results['% Passing Reading'] = results['% Passing Reading'].map(\"{:.2f}\".format)\n",
    "results['% Overall Passing'] = results['% Overall Passing'].map(\"{:.2f}\".format)\n",
    "\n",
    "\n",
    "\n",
    "results\n"
   ]
  },
  {
   "cell_type": "markdown",
   "metadata": {},
   "source": [
    "## School Summary"
   ]
  },
  {
   "cell_type": "markdown",
   "metadata": {},
   "source": [
    "* Create an overview table that summarizes key metrics about each school, including:\n",
    "  * School Name\n",
    "  * School Type\n",
    "  * Total Students\n",
    "  * Total School Budget\n",
    "  * Per Student Budget\n",
    "  * Average Math Score\n",
    "  * Average Reading Score\n",
    "  * % Passing Math\n",
    "  * % Passing Reading\n",
    "  * % Overall Passing (The percentage of students that passed math **and** reading.)\n",
    "  \n",
    "* Create a dataframe to hold the above results"
   ]
  },
  {
   "cell_type": "code",
   "execution_count": 284,
   "metadata": {},
   "outputs": [
    {
     "output_type": "execute_result",
     "data": {
      "text/plain": [
       "                      School Type  Total Students Total School Budget  \\\n",
       "                                                                        \n",
       "Bailey High School       District            4976       $3,124,928.00   \n",
       "Cabrera High School       Charter            1858       $1,081,356.00   \n",
       "Figueroa High School     District            2949       $1,884,411.00   \n",
       "Ford High School         District            2739       $1,763,916.00   \n",
       "Griffin High School       Charter            1468         $917,500.00   \n",
       "Hernandez High School    District            4635       $3,022,020.00   \n",
       "Holden High School        Charter             427         $248,087.00   \n",
       "Huang High School        District            2917       $1,910,635.00   \n",
       "Johnson High School      District            4761       $3,094,650.00   \n",
       "Pena High School          Charter             962         $585,858.00   \n",
       "Rodriguez High School    District            3999       $2,547,363.00   \n",
       "Shelton High School       Charter            1761       $1,056,600.00   \n",
       "Thomas High School        Charter            1635       $1,043,130.00   \n",
       "Wilson High School        Charter            2283       $1,319,574.00   \n",
       "Wright High School        Charter            1800       $1,049,400.00   \n",
       "\n",
       "                      Per Student Budget Average Math Score  \\\n",
       "                                                              \n",
       "Bailey High School               $628.00              77.05   \n",
       "Cabrera High School              $582.00              83.06   \n",
       "Figueroa High School             $639.00              76.71   \n",
       "Ford High School                 $644.00              77.10   \n",
       "Griffin High School              $625.00              83.35   \n",
       "Hernandez High School            $652.00              77.29   \n",
       "Holden High School               $581.00              83.80   \n",
       "Huang High School                $655.00              76.63   \n",
       "Johnson High School              $650.00              77.07   \n",
       "Pena High School                 $609.00              83.84   \n",
       "Rodriguez High School            $637.00              76.84   \n",
       "Shelton High School              $600.00              83.36   \n",
       "Thomas High School               $638.00              83.42   \n",
       "Wilson High School               $578.00              83.27   \n",
       "Wright High School               $583.00              83.68   \n",
       "\n",
       "                      Average Reading Score % Passing Math % Passing Reading  \\\n",
       "                                                                               \n",
       "Bailey High School                    81.03          66.68             81.93   \n",
       "Cabrera High School                   83.98          94.13             97.04   \n",
       "Figueroa High School                  81.16          65.99             80.74   \n",
       "Ford High School                      80.75          68.31             79.30   \n",
       "Griffin High School                   83.82          93.39             97.14   \n",
       "Hernandez High School                 80.93          66.75             80.86   \n",
       "Holden High School                    83.81          92.51             96.25   \n",
       "Huang High School                     81.18          65.68             81.32   \n",
       "Johnson High School                   80.97          66.06             81.22   \n",
       "Pena High School                      84.04          94.59             95.95   \n",
       "Rodriguez High School                 80.74          66.37             80.22   \n",
       "Shelton High School                   83.73          93.87             95.85   \n",
       "Thomas High School                    83.85          93.27             97.31   \n",
       "Wilson High School                    83.99          93.87             96.54   \n",
       "Wright High School                    83.95          93.33             96.61   \n",
       "\n",
       "                      % Overall Passing  \n",
       "                                         \n",
       "Bailey High School                54.64  \n",
       "Cabrera High School               91.33  \n",
       "Figueroa High School              53.20  \n",
       "Ford High School                  54.29  \n",
       "Griffin High School               90.60  \n",
       "Hernandez High School             53.53  \n",
       "Holden High School                89.23  \n",
       "Huang High School                 53.51  \n",
       "Johnson High School               53.54  \n",
       "Pena High School                  90.54  \n",
       "Rodriguez High School             52.99  \n",
       "Shelton High School               89.89  \n",
       "Thomas High School                90.95  \n",
       "Wilson High School                90.58  \n",
       "Wright High School                90.33  "
      ],
      "text/html": "<div>\n<style scoped>\n    .dataframe tbody tr th:only-of-type {\n        vertical-align: middle;\n    }\n\n    .dataframe tbody tr th {\n        vertical-align: top;\n    }\n\n    .dataframe thead th {\n        text-align: right;\n    }\n</style>\n<table border=\"1\" class=\"dataframe\">\n  <thead>\n    <tr style=\"text-align: right;\">\n      <th></th>\n      <th>School Type</th>\n      <th>Total Students</th>\n      <th>Total School Budget</th>\n      <th>Per Student Budget</th>\n      <th>Average Math Score</th>\n      <th>Average Reading Score</th>\n      <th>% Passing Math</th>\n      <th>% Passing Reading</th>\n      <th>% Overall Passing</th>\n    </tr>\n    <tr>\n      <th></th>\n      <th></th>\n      <th></th>\n      <th></th>\n      <th></th>\n      <th></th>\n      <th></th>\n      <th></th>\n      <th></th>\n      <th></th>\n    </tr>\n  </thead>\n  <tbody>\n    <tr>\n      <th>Bailey High School</th>\n      <td>District</td>\n      <td>4976</td>\n      <td>$3,124,928.00</td>\n      <td>$628.00</td>\n      <td>77.05</td>\n      <td>81.03</td>\n      <td>66.68</td>\n      <td>81.93</td>\n      <td>54.64</td>\n    </tr>\n    <tr>\n      <th>Cabrera High School</th>\n      <td>Charter</td>\n      <td>1858</td>\n      <td>$1,081,356.00</td>\n      <td>$582.00</td>\n      <td>83.06</td>\n      <td>83.98</td>\n      <td>94.13</td>\n      <td>97.04</td>\n      <td>91.33</td>\n    </tr>\n    <tr>\n      <th>Figueroa High School</th>\n      <td>District</td>\n      <td>2949</td>\n      <td>$1,884,411.00</td>\n      <td>$639.00</td>\n      <td>76.71</td>\n      <td>81.16</td>\n      <td>65.99</td>\n      <td>80.74</td>\n      <td>53.20</td>\n    </tr>\n    <tr>\n      <th>Ford High School</th>\n      <td>District</td>\n      <td>2739</td>\n      <td>$1,763,916.00</td>\n      <td>$644.00</td>\n      <td>77.10</td>\n      <td>80.75</td>\n      <td>68.31</td>\n      <td>79.30</td>\n      <td>54.29</td>\n    </tr>\n    <tr>\n      <th>Griffin High School</th>\n      <td>Charter</td>\n      <td>1468</td>\n      <td>$917,500.00</td>\n      <td>$625.00</td>\n      <td>83.35</td>\n      <td>83.82</td>\n      <td>93.39</td>\n      <td>97.14</td>\n      <td>90.60</td>\n    </tr>\n    <tr>\n      <th>Hernandez High School</th>\n      <td>District</td>\n      <td>4635</td>\n      <td>$3,022,020.00</td>\n      <td>$652.00</td>\n      <td>77.29</td>\n      <td>80.93</td>\n      <td>66.75</td>\n      <td>80.86</td>\n      <td>53.53</td>\n    </tr>\n    <tr>\n      <th>Holden High School</th>\n      <td>Charter</td>\n      <td>427</td>\n      <td>$248,087.00</td>\n      <td>$581.00</td>\n      <td>83.80</td>\n      <td>83.81</td>\n      <td>92.51</td>\n      <td>96.25</td>\n      <td>89.23</td>\n    </tr>\n    <tr>\n      <th>Huang High School</th>\n      <td>District</td>\n      <td>2917</td>\n      <td>$1,910,635.00</td>\n      <td>$655.00</td>\n      <td>76.63</td>\n      <td>81.18</td>\n      <td>65.68</td>\n      <td>81.32</td>\n      <td>53.51</td>\n    </tr>\n    <tr>\n      <th>Johnson High School</th>\n      <td>District</td>\n      <td>4761</td>\n      <td>$3,094,650.00</td>\n      <td>$650.00</td>\n      <td>77.07</td>\n      <td>80.97</td>\n      <td>66.06</td>\n      <td>81.22</td>\n      <td>53.54</td>\n    </tr>\n    <tr>\n      <th>Pena High School</th>\n      <td>Charter</td>\n      <td>962</td>\n      <td>$585,858.00</td>\n      <td>$609.00</td>\n      <td>83.84</td>\n      <td>84.04</td>\n      <td>94.59</td>\n      <td>95.95</td>\n      <td>90.54</td>\n    </tr>\n    <tr>\n      <th>Rodriguez High School</th>\n      <td>District</td>\n      <td>3999</td>\n      <td>$2,547,363.00</td>\n      <td>$637.00</td>\n      <td>76.84</td>\n      <td>80.74</td>\n      <td>66.37</td>\n      <td>80.22</td>\n      <td>52.99</td>\n    </tr>\n    <tr>\n      <th>Shelton High School</th>\n      <td>Charter</td>\n      <td>1761</td>\n      <td>$1,056,600.00</td>\n      <td>$600.00</td>\n      <td>83.36</td>\n      <td>83.73</td>\n      <td>93.87</td>\n      <td>95.85</td>\n      <td>89.89</td>\n    </tr>\n    <tr>\n      <th>Thomas High School</th>\n      <td>Charter</td>\n      <td>1635</td>\n      <td>$1,043,130.00</td>\n      <td>$638.00</td>\n      <td>83.42</td>\n      <td>83.85</td>\n      <td>93.27</td>\n      <td>97.31</td>\n      <td>90.95</td>\n    </tr>\n    <tr>\n      <th>Wilson High School</th>\n      <td>Charter</td>\n      <td>2283</td>\n      <td>$1,319,574.00</td>\n      <td>$578.00</td>\n      <td>83.27</td>\n      <td>83.99</td>\n      <td>93.87</td>\n      <td>96.54</td>\n      <td>90.58</td>\n    </tr>\n    <tr>\n      <th>Wright High School</th>\n      <td>Charter</td>\n      <td>1800</td>\n      <td>$1,049,400.00</td>\n      <td>$583.00</td>\n      <td>83.68</td>\n      <td>83.95</td>\n      <td>93.33</td>\n      <td>96.61</td>\n      <td>90.33</td>\n    </tr>\n  </tbody>\n</table>\n</div>"
     },
     "metadata": {},
     "execution_count": 284
    }
   ],
   "source": [
    "#SCHOOL SUMMARY\n",
    "\n",
    "#Grouping by school name, type and budget.\n",
    "school_name_group = school_data_complete.groupby(['school_name','type','budget'])\n",
    "\n",
    "#Counting student per school\n",
    "student_per_school = school_name_group['Student ID'].count()\n",
    "\n",
    "#\n",
    "\n",
    "average_mathscore = school_name_group['math_score'].mean()\n",
    "\n",
    "average_readingscore = school_name_group['reading_score'].mean()\n",
    "\n",
    "\n",
    "passing_math_list = school_data_complete[(school_data_complete.math_score >= 70)]\n",
    "\n",
    "passing_math_group = passing_math_list.groupby(['school_name','type','budget'])\n",
    "\n",
    "passing_math_c = passing_math_group['math_score'].count().to_frame ('Passing Math')\n",
    "\n",
    "\n",
    "\n",
    "passing_reading_list = school_data_complete[(school_data_complete.reading_score >= 70)]\n",
    "\n",
    "passing_reading_group = passing_reading_list.groupby(['school_name','type','budget'])\n",
    "\n",
    "passing_reading_c = passing_reading_group['math_score'].count().to_frame ('Passing Reading')\n",
    "\n",
    "\n",
    "overall_passing_list = school_data_complete[(school_data_complete.math_score >= 70) & \n",
    "                   (school_data_complete.reading_score >= 70)]\n",
    "\n",
    "overall_passing_group = overall_passing_list.groupby(['school_name','type','budget'])\n",
    "\n",
    "\n",
    "\n",
    "overall_passing_c = overall_passing_group['math_score'].count().to_frame('Overall Passing')\n",
    "\n",
    "\n",
    "summary_school = pd.concat([student_per_school, average_mathscore, average_readingscore,passing_math_c, passing_reading_c,overall_passing_c], axis='columns', sort=False)\n",
    "\n",
    "\n",
    "# convert gruop into a data frame\n",
    "summary_school_df = summary_school.reset_index()\n",
    "\n",
    "summary_school_df_rename =  summary_school_df.rename (columns={'school_name': 'School Name', 'type':'School Type','budget':'Total School Budget', 'Student ID':'Total Students', 'math_score':'Average Math Score','reading_score':'Average Reading Score'})\n",
    "\n",
    "#Adding percentages of passing totals.\n",
    "\n",
    "summary_school_df_rename['Per Student Budget']= (summary_school_df_rename['Total School Budget']/ summary_school_df_rename['Total Students'])\n",
    "\n",
    "summary_school_df_rename['% Passing Math']= (summary_school_df_rename['Passing Math']/ summary_school_df_rename['Total Students'])*100\n",
    "\n",
    "summary_school_df_rename['% Passing Reading']= (summary_school_df_rename['Passing Reading']/ summary_school_df_rename['Total Students'])*100\n",
    "\n",
    "summary_school_df_rename['% Overall Passing']= (summary_school_df_rename['Overall Passing']/ summary_school_df_rename['Total Students'])*100\n",
    "\n",
    "summary_school_df_reduce = summary_school_df_rename[['School Name','School Type','Total Students', 'Total School Budget','Per Student Budget', 'Average Math Score','Average Reading Score','% Passing Math', '% Passing Reading', '% Overall Passing']]\n",
    "\n",
    "summary_school_df_rindex = summary_school_df_reduce.rename (columns={'School Name': ' '})\n",
    "\n",
    "summary_school_df_final = summary_school_df_rindex.set_index(summary_school_df_rindex.columns[0])\n",
    "\n",
    "#Formating currency columns\n",
    "\n",
    "summary_school_df_final['Total School Budget'] = summary_school_df_final['Total School Budget'].map(\"${:,.2f}\".format)\n",
    "summary_school_df_final['Per Student Budget'] = summary_school_df_final['Per Student Budget'].map(\"${:,.2f}\".format)\n",
    "summary_school_df_final['Average Math Score'] = summary_school_df_final['Average Math Score'].map(\"{:.2f}\".format)\n",
    "summary_school_df_final['Average Reading Score'] = summary_school_df_final['Average Reading Score'].map(\"{:.2f}\".format)\n",
    "summary_school_df_final['% Passing Math'] = summary_school_df_final['% Passing Math'].map(\"{:.2f}\".format)\n",
    "summary_school_df_final['% Passing Reading'] = summary_school_df_final['% Passing Reading'].map(\"{:.2f}\".format)\n",
    "summary_school_df_final['% Overall Passing'] = summary_school_df_final['% Overall Passing'].map(\"{:.2f}\".format)\n",
    "summary_school_df_final\n",
    "\n",
    "\n"
   ]
  },
  {
   "cell_type": "markdown",
   "metadata": {},
   "source": [
    "## Top Performing Schools (By % Overall Passing)"
   ]
  },
  {
   "cell_type": "markdown",
   "metadata": {},
   "source": [
    "* Sort and display the top five performing schools by % overall passing."
   ]
  },
  {
   "cell_type": "code",
   "execution_count": 285,
   "metadata": {
    "scrolled": true
   },
   "outputs": [
    {
     "output_type": "execute_result",
     "data": {
      "text/plain": [
       "                    School Type  Total Students Total School Budget  \\\n",
       "                                                                      \n",
       "Cabrera High School     Charter            1858       $1,081,356.00   \n",
       "Thomas High School      Charter            1635       $1,043,130.00   \n",
       "Griffin High School     Charter            1468         $917,500.00   \n",
       "Wilson High School      Charter            2283       $1,319,574.00   \n",
       "Pena High School        Charter             962         $585,858.00   \n",
       "\n",
       "                    Per Student Budget Average Math Score  \\\n",
       "                                                            \n",
       "Cabrera High School            $582.00              83.06   \n",
       "Thomas High School             $638.00              83.42   \n",
       "Griffin High School            $625.00              83.35   \n",
       "Wilson High School             $578.00              83.27   \n",
       "Pena High School               $609.00              83.84   \n",
       "\n",
       "                    Average Reading Score % Passing Math % Passing Reading  \\\n",
       "                                                                             \n",
       "Cabrera High School                 83.98          94.13             97.04   \n",
       "Thomas High School                  83.85          93.27             97.31   \n",
       "Griffin High School                 83.82          93.39             97.14   \n",
       "Wilson High School                  83.99          93.87             96.54   \n",
       "Pena High School                    84.04          94.59             95.95   \n",
       "\n",
       "                    % Overall Passing  \n",
       "                                       \n",
       "Cabrera High School             91.33  \n",
       "Thomas High School              90.95  \n",
       "Griffin High School             90.60  \n",
       "Wilson High School              90.58  \n",
       "Pena High School                90.54  "
      ],
      "text/html": "<div>\n<style scoped>\n    .dataframe tbody tr th:only-of-type {\n        vertical-align: middle;\n    }\n\n    .dataframe tbody tr th {\n        vertical-align: top;\n    }\n\n    .dataframe thead th {\n        text-align: right;\n    }\n</style>\n<table border=\"1\" class=\"dataframe\">\n  <thead>\n    <tr style=\"text-align: right;\">\n      <th></th>\n      <th>School Type</th>\n      <th>Total Students</th>\n      <th>Total School Budget</th>\n      <th>Per Student Budget</th>\n      <th>Average Math Score</th>\n      <th>Average Reading Score</th>\n      <th>% Passing Math</th>\n      <th>% Passing Reading</th>\n      <th>% Overall Passing</th>\n    </tr>\n    <tr>\n      <th></th>\n      <th></th>\n      <th></th>\n      <th></th>\n      <th></th>\n      <th></th>\n      <th></th>\n      <th></th>\n      <th></th>\n      <th></th>\n    </tr>\n  </thead>\n  <tbody>\n    <tr>\n      <th>Cabrera High School</th>\n      <td>Charter</td>\n      <td>1858</td>\n      <td>$1,081,356.00</td>\n      <td>$582.00</td>\n      <td>83.06</td>\n      <td>83.98</td>\n      <td>94.13</td>\n      <td>97.04</td>\n      <td>91.33</td>\n    </tr>\n    <tr>\n      <th>Thomas High School</th>\n      <td>Charter</td>\n      <td>1635</td>\n      <td>$1,043,130.00</td>\n      <td>$638.00</td>\n      <td>83.42</td>\n      <td>83.85</td>\n      <td>93.27</td>\n      <td>97.31</td>\n      <td>90.95</td>\n    </tr>\n    <tr>\n      <th>Griffin High School</th>\n      <td>Charter</td>\n      <td>1468</td>\n      <td>$917,500.00</td>\n      <td>$625.00</td>\n      <td>83.35</td>\n      <td>83.82</td>\n      <td>93.39</td>\n      <td>97.14</td>\n      <td>90.60</td>\n    </tr>\n    <tr>\n      <th>Wilson High School</th>\n      <td>Charter</td>\n      <td>2283</td>\n      <td>$1,319,574.00</td>\n      <td>$578.00</td>\n      <td>83.27</td>\n      <td>83.99</td>\n      <td>93.87</td>\n      <td>96.54</td>\n      <td>90.58</td>\n    </tr>\n    <tr>\n      <th>Pena High School</th>\n      <td>Charter</td>\n      <td>962</td>\n      <td>$585,858.00</td>\n      <td>$609.00</td>\n      <td>83.84</td>\n      <td>84.04</td>\n      <td>94.59</td>\n      <td>95.95</td>\n      <td>90.54</td>\n    </tr>\n  </tbody>\n</table>\n</div>"
     },
     "metadata": {},
     "execution_count": 285
    }
   ],
   "source": [
    "top_performing_schools = summary_school_df_final.sort_values('% Overall Passing', ascending = False)\n",
    "top_performing_schools.head(5)"
   ]
  },
  {
   "cell_type": "markdown",
   "metadata": {},
   "source": [
    "## Bottom Performing Schools (By % Overall Passing)"
   ]
  },
  {
   "cell_type": "markdown",
   "metadata": {},
   "source": [
    "* Sort and display the five worst-performing schools by % overall passing."
   ]
  },
  {
   "cell_type": "code",
   "execution_count": 286,
   "metadata": {},
   "outputs": [
    {
     "output_type": "execute_result",
     "data": {
      "text/plain": [
       "                      School Type  Total Students Total School Budget  \\\n",
       "                                                                        \n",
       "Rodriguez High School    District            3999       $2,547,363.00   \n",
       "Figueroa High School     District            2949       $1,884,411.00   \n",
       "Huang High School        District            2917       $1,910,635.00   \n",
       "Hernandez High School    District            4635       $3,022,020.00   \n",
       "Johnson High School      District            4761       $3,094,650.00   \n",
       "\n",
       "                      Per Student Budget Average Math Score  \\\n",
       "                                                              \n",
       "Rodriguez High School            $637.00              76.84   \n",
       "Figueroa High School             $639.00              76.71   \n",
       "Huang High School                $655.00              76.63   \n",
       "Hernandez High School            $652.00              77.29   \n",
       "Johnson High School              $650.00              77.07   \n",
       "\n",
       "                      Average Reading Score % Passing Math % Passing Reading  \\\n",
       "                                                                               \n",
       "Rodriguez High School                 80.74          66.37             80.22   \n",
       "Figueroa High School                  81.16          65.99             80.74   \n",
       "Huang High School                     81.18          65.68             81.32   \n",
       "Hernandez High School                 80.93          66.75             80.86   \n",
       "Johnson High School                   80.97          66.06             81.22   \n",
       "\n",
       "                      % Overall Passing  \n",
       "                                         \n",
       "Rodriguez High School             52.99  \n",
       "Figueroa High School              53.20  \n",
       "Huang High School                 53.51  \n",
       "Hernandez High School             53.53  \n",
       "Johnson High School               53.54  "
      ],
      "text/html": "<div>\n<style scoped>\n    .dataframe tbody tr th:only-of-type {\n        vertical-align: middle;\n    }\n\n    .dataframe tbody tr th {\n        vertical-align: top;\n    }\n\n    .dataframe thead th {\n        text-align: right;\n    }\n</style>\n<table border=\"1\" class=\"dataframe\">\n  <thead>\n    <tr style=\"text-align: right;\">\n      <th></th>\n      <th>School Type</th>\n      <th>Total Students</th>\n      <th>Total School Budget</th>\n      <th>Per Student Budget</th>\n      <th>Average Math Score</th>\n      <th>Average Reading Score</th>\n      <th>% Passing Math</th>\n      <th>% Passing Reading</th>\n      <th>% Overall Passing</th>\n    </tr>\n    <tr>\n      <th></th>\n      <th></th>\n      <th></th>\n      <th></th>\n      <th></th>\n      <th></th>\n      <th></th>\n      <th></th>\n      <th></th>\n      <th></th>\n    </tr>\n  </thead>\n  <tbody>\n    <tr>\n      <th>Rodriguez High School</th>\n      <td>District</td>\n      <td>3999</td>\n      <td>$2,547,363.00</td>\n      <td>$637.00</td>\n      <td>76.84</td>\n      <td>80.74</td>\n      <td>66.37</td>\n      <td>80.22</td>\n      <td>52.99</td>\n    </tr>\n    <tr>\n      <th>Figueroa High School</th>\n      <td>District</td>\n      <td>2949</td>\n      <td>$1,884,411.00</td>\n      <td>$639.00</td>\n      <td>76.71</td>\n      <td>81.16</td>\n      <td>65.99</td>\n      <td>80.74</td>\n      <td>53.20</td>\n    </tr>\n    <tr>\n      <th>Huang High School</th>\n      <td>District</td>\n      <td>2917</td>\n      <td>$1,910,635.00</td>\n      <td>$655.00</td>\n      <td>76.63</td>\n      <td>81.18</td>\n      <td>65.68</td>\n      <td>81.32</td>\n      <td>53.51</td>\n    </tr>\n    <tr>\n      <th>Hernandez High School</th>\n      <td>District</td>\n      <td>4635</td>\n      <td>$3,022,020.00</td>\n      <td>$652.00</td>\n      <td>77.29</td>\n      <td>80.93</td>\n      <td>66.75</td>\n      <td>80.86</td>\n      <td>53.53</td>\n    </tr>\n    <tr>\n      <th>Johnson High School</th>\n      <td>District</td>\n      <td>4761</td>\n      <td>$3,094,650.00</td>\n      <td>$650.00</td>\n      <td>77.07</td>\n      <td>80.97</td>\n      <td>66.06</td>\n      <td>81.22</td>\n      <td>53.54</td>\n    </tr>\n  </tbody>\n</table>\n</div>"
     },
     "metadata": {},
     "execution_count": 286
    }
   ],
   "source": [
    "bottom_performing_schools = summary_school_df_final.sort_values('% Overall Passing')\n",
    "bottom_performing_schools.head(5)"
   ]
  },
  {
   "cell_type": "markdown",
   "metadata": {
    "collapsed": true
   },
   "source": [
    "## Math Scores by Grade"
   ]
  },
  {
   "cell_type": "markdown",
   "metadata": {},
   "source": [
    "* Create a table that lists the average Reading Score for students of each grade level (9th, 10th, 11th, 12th) at each school.\n",
    "\n",
    "  * Create a pandas series for each grade. Hint: use a conditional statement.\n",
    "  \n",
    "  * Group each series by school\n",
    "  \n",
    "  * Combine the series into a dataframe\n",
    "  \n",
    "  * Optional: give the displayed data cleaner formatting"
   ]
  },
  {
   "cell_type": "code",
   "execution_count": 295,
   "metadata": {},
   "outputs": [
    {
     "output_type": "execute_result",
     "data": {
      "text/plain": [
       "                             9th       10th       11th       12th\n",
       "school_name                                                      \n",
       "Bailey High School     77.083676  76.996772  77.515588  76.492218\n",
       "Cabrera High School    83.094697  83.154506  82.765560  83.277487\n",
       "Figueroa High School   76.403037  76.539974  76.884344  77.151369\n",
       "Ford High School       77.361345  77.672316  76.918058  76.179963\n",
       "Griffin High School    82.044010  84.229064  83.842105  83.356164\n",
       "Hernandez High School  77.438495  77.337408  77.136029  77.186567\n",
       "Holden High School     83.787402  83.429825  85.000000  82.855422\n",
       "Huang High School      77.027251  75.908735  76.446602  77.225641\n",
       "Johnson High School    77.187857  76.691117  77.491653  76.863248\n",
       "Pena High School       83.625455  83.372000  84.328125  84.121547\n",
       "Rodriguez High School  76.859966  76.612500  76.395626  77.690748\n",
       "Shelton High School    83.420755  82.917411  83.383495  83.778976\n",
       "Thomas High School     83.590022  83.087886  83.498795  83.497041\n",
       "Wilson High School     83.085578  83.724422  83.195326  83.035794\n",
       "Wright High School     83.264706  84.010288  83.836782  83.644986"
      ],
      "text/html": "<div>\n<style scoped>\n    .dataframe tbody tr th:only-of-type {\n        vertical-align: middle;\n    }\n\n    .dataframe tbody tr th {\n        vertical-align: top;\n    }\n\n    .dataframe thead th {\n        text-align: right;\n    }\n</style>\n<table border=\"1\" class=\"dataframe\">\n  <thead>\n    <tr style=\"text-align: right;\">\n      <th></th>\n      <th>9th</th>\n      <th>10th</th>\n      <th>11th</th>\n      <th>12th</th>\n    </tr>\n    <tr>\n      <th>school_name</th>\n      <th></th>\n      <th></th>\n      <th></th>\n      <th></th>\n    </tr>\n  </thead>\n  <tbody>\n    <tr>\n      <th>Bailey High School</th>\n      <td>77.083676</td>\n      <td>76.996772</td>\n      <td>77.515588</td>\n      <td>76.492218</td>\n    </tr>\n    <tr>\n      <th>Cabrera High School</th>\n      <td>83.094697</td>\n      <td>83.154506</td>\n      <td>82.765560</td>\n      <td>83.277487</td>\n    </tr>\n    <tr>\n      <th>Figueroa High School</th>\n      <td>76.403037</td>\n      <td>76.539974</td>\n      <td>76.884344</td>\n      <td>77.151369</td>\n    </tr>\n    <tr>\n      <th>Ford High School</th>\n      <td>77.361345</td>\n      <td>77.672316</td>\n      <td>76.918058</td>\n      <td>76.179963</td>\n    </tr>\n    <tr>\n      <th>Griffin High School</th>\n      <td>82.044010</td>\n      <td>84.229064</td>\n      <td>83.842105</td>\n      <td>83.356164</td>\n    </tr>\n    <tr>\n      <th>Hernandez High School</th>\n      <td>77.438495</td>\n      <td>77.337408</td>\n      <td>77.136029</td>\n      <td>77.186567</td>\n    </tr>\n    <tr>\n      <th>Holden High School</th>\n      <td>83.787402</td>\n      <td>83.429825</td>\n      <td>85.000000</td>\n      <td>82.855422</td>\n    </tr>\n    <tr>\n      <th>Huang High School</th>\n      <td>77.027251</td>\n      <td>75.908735</td>\n      <td>76.446602</td>\n      <td>77.225641</td>\n    </tr>\n    <tr>\n      <th>Johnson High School</th>\n      <td>77.187857</td>\n      <td>76.691117</td>\n      <td>77.491653</td>\n      <td>76.863248</td>\n    </tr>\n    <tr>\n      <th>Pena High School</th>\n      <td>83.625455</td>\n      <td>83.372000</td>\n      <td>84.328125</td>\n      <td>84.121547</td>\n    </tr>\n    <tr>\n      <th>Rodriguez High School</th>\n      <td>76.859966</td>\n      <td>76.612500</td>\n      <td>76.395626</td>\n      <td>77.690748</td>\n    </tr>\n    <tr>\n      <th>Shelton High School</th>\n      <td>83.420755</td>\n      <td>82.917411</td>\n      <td>83.383495</td>\n      <td>83.778976</td>\n    </tr>\n    <tr>\n      <th>Thomas High School</th>\n      <td>83.590022</td>\n      <td>83.087886</td>\n      <td>83.498795</td>\n      <td>83.497041</td>\n    </tr>\n    <tr>\n      <th>Wilson High School</th>\n      <td>83.085578</td>\n      <td>83.724422</td>\n      <td>83.195326</td>\n      <td>83.035794</td>\n    </tr>\n    <tr>\n      <th>Wright High School</th>\n      <td>83.264706</td>\n      <td>84.010288</td>\n      <td>83.836782</td>\n      <td>83.644986</td>\n    </tr>\n  </tbody>\n</table>\n</div>"
     },
     "metadata": {},
     "execution_count": 295
    }
   ],
   "source": [
    "\n",
    "#Grade 9 column\n",
    "\n",
    "grade9m_list = school_data_complete[(school_data_complete.grade == \"9th\")]\n",
    "\n",
    "grade9m_group = grade9m_list.groupby(['school_name'])\n",
    "\n",
    "grade9m_c = grade9m_group['math_score'].mean().to_frame(name = '9th')\n",
    "\n",
    "\n",
    "#Grade 10 column\n",
    "\n",
    "grade10m_list = school_data_complete[(school_data_complete.grade == \"10th\")]\n",
    "\n",
    "grade10m_group = grade10m_list.groupby(['school_name'])\n",
    "\n",
    "grade10m_c = grade10m_group['math_score'].mean().to_frame(name ='10th')\n",
    "\n",
    "\n",
    "#Grade 11 column\n",
    "\n",
    "grade11m_list = school_data_complete[(school_data_complete.grade == \"11th\")]\n",
    "\n",
    "grade11m_group = grade11m_list.groupby(['school_name'])\n",
    "\n",
    "grade11m_c = grade11m_group['math_score'].mean().to_frame(name ='11th')\n",
    "\n",
    "\n",
    "#Grade 12 column\n",
    "\n",
    "grade12m_list = school_data_complete[(school_data_complete.grade == \"12th\")]\n",
    "\n",
    "grade12m_group = grade12m_list.groupby(['school_name'])\n",
    "\n",
    "grade12m_c = grade12m_group['math_score'].mean().to_frame(name ='12th')\n",
    "\n",
    "# final data frame\n",
    "\n",
    "math_score_bygrade = pd.concat([grade9m_c, grade10m_c, grade11m_c, grade12m_c], axis='columns', sort=False)\n",
    "\n",
    "math_score_bygrade_final = math_score_bygrade.rename (index={'school_name':'School Name'})\n",
    "\n",
    "\n",
    "math_score_bygrade_final\n",
    "\n",
    "\n",
    "\n"
   ]
  },
  {
   "cell_type": "markdown",
   "metadata": {},
   "source": [
    "## Reading Score by Grade "
   ]
  },
  {
   "cell_type": "markdown",
   "metadata": {},
   "source": [
    "* Perform the same operations as above for reading scores"
   ]
  },
  {
   "cell_type": "code",
   "execution_count": 232,
   "metadata": {},
   "outputs": [
    {
     "output_type": "execute_result",
     "data": {
      "text/plain": [
       "                             9th       10th       11th       12th\n",
       "school_name                                                      \n",
       "Bailey High School     81.303155  80.907183  80.945643  80.912451\n",
       "Cabrera High School    83.676136  84.253219  83.788382  84.287958\n",
       "Figueroa High School   81.198598  81.408912  80.640339  81.384863\n",
       "Ford High School       80.632653  81.262712  80.403642  80.662338\n",
       "Griffin High School    83.369193  83.706897  84.288089  84.013699\n",
       "Hernandez High School  80.866860  80.660147  81.396140  80.857143\n",
       "Holden High School     83.677165  83.324561  83.815534  84.698795\n",
       "Huang High School      81.290284  81.512386  81.417476  80.305983\n",
       "Johnson High School    81.260714  80.773431  80.616027  81.227564\n",
       "Pena High School       83.807273  83.612000  84.335938  84.591160\n",
       "Rodriguez High School  80.993127  80.629808  80.864811  80.376426\n",
       "Shelton High School    84.122642  83.441964  84.373786  82.781671\n",
       "Thomas High School     83.728850  84.254157  83.585542  83.831361\n",
       "Wilson High School     83.939778  84.021452  83.764608  84.317673\n",
       "Wright High School     83.833333  83.812757  84.156322  84.073171"
      ],
      "text/html": "<div>\n<style scoped>\n    .dataframe tbody tr th:only-of-type {\n        vertical-align: middle;\n    }\n\n    .dataframe tbody tr th {\n        vertical-align: top;\n    }\n\n    .dataframe thead th {\n        text-align: right;\n    }\n</style>\n<table border=\"1\" class=\"dataframe\">\n  <thead>\n    <tr style=\"text-align: right;\">\n      <th></th>\n      <th>9th</th>\n      <th>10th</th>\n      <th>11th</th>\n      <th>12th</th>\n    </tr>\n    <tr>\n      <th>school_name</th>\n      <th></th>\n      <th></th>\n      <th></th>\n      <th></th>\n    </tr>\n  </thead>\n  <tbody>\n    <tr>\n      <th>Bailey High School</th>\n      <td>81.303155</td>\n      <td>80.907183</td>\n      <td>80.945643</td>\n      <td>80.912451</td>\n    </tr>\n    <tr>\n      <th>Cabrera High School</th>\n      <td>83.676136</td>\n      <td>84.253219</td>\n      <td>83.788382</td>\n      <td>84.287958</td>\n    </tr>\n    <tr>\n      <th>Figueroa High School</th>\n      <td>81.198598</td>\n      <td>81.408912</td>\n      <td>80.640339</td>\n      <td>81.384863</td>\n    </tr>\n    <tr>\n      <th>Ford High School</th>\n      <td>80.632653</td>\n      <td>81.262712</td>\n      <td>80.403642</td>\n      <td>80.662338</td>\n    </tr>\n    <tr>\n      <th>Griffin High School</th>\n      <td>83.369193</td>\n      <td>83.706897</td>\n      <td>84.288089</td>\n      <td>84.013699</td>\n    </tr>\n    <tr>\n      <th>Hernandez High School</th>\n      <td>80.866860</td>\n      <td>80.660147</td>\n      <td>81.396140</td>\n      <td>80.857143</td>\n    </tr>\n    <tr>\n      <th>Holden High School</th>\n      <td>83.677165</td>\n      <td>83.324561</td>\n      <td>83.815534</td>\n      <td>84.698795</td>\n    </tr>\n    <tr>\n      <th>Huang High School</th>\n      <td>81.290284</td>\n      <td>81.512386</td>\n      <td>81.417476</td>\n      <td>80.305983</td>\n    </tr>\n    <tr>\n      <th>Johnson High School</th>\n      <td>81.260714</td>\n      <td>80.773431</td>\n      <td>80.616027</td>\n      <td>81.227564</td>\n    </tr>\n    <tr>\n      <th>Pena High School</th>\n      <td>83.807273</td>\n      <td>83.612000</td>\n      <td>84.335938</td>\n      <td>84.591160</td>\n    </tr>\n    <tr>\n      <th>Rodriguez High School</th>\n      <td>80.993127</td>\n      <td>80.629808</td>\n      <td>80.864811</td>\n      <td>80.376426</td>\n    </tr>\n    <tr>\n      <th>Shelton High School</th>\n      <td>84.122642</td>\n      <td>83.441964</td>\n      <td>84.373786</td>\n      <td>82.781671</td>\n    </tr>\n    <tr>\n      <th>Thomas High School</th>\n      <td>83.728850</td>\n      <td>84.254157</td>\n      <td>83.585542</td>\n      <td>83.831361</td>\n    </tr>\n    <tr>\n      <th>Wilson High School</th>\n      <td>83.939778</td>\n      <td>84.021452</td>\n      <td>83.764608</td>\n      <td>84.317673</td>\n    </tr>\n    <tr>\n      <th>Wright High School</th>\n      <td>83.833333</td>\n      <td>83.812757</td>\n      <td>84.156322</td>\n      <td>84.073171</td>\n    </tr>\n  </tbody>\n</table>\n</div>"
     },
     "metadata": {},
     "execution_count": 232
    }
   ],
   "source": [
    "#Grade 9 column\n",
    "\n",
    "grade9r_list = school_data_complete[(school_data_complete.grade == \"9th\")]\n",
    "\n",
    "grade9r_group = grade9r_list.groupby(['school_name'])\n",
    "\n",
    "grade9r_c = grade9r_group['reading_score'].mean().to_frame(name = '9th')\n",
    "\n",
    "\n",
    "#Grade 10 column\n",
    "\n",
    "grade10r_list = school_data_complete[(school_data_complete.grade == \"10th\")]\n",
    "\n",
    "grade10r_group = grade10r_list.groupby(['school_name'])\n",
    "\n",
    "grade10r_c = grade10r_group['reading_score'].mean().to_frame(name ='10th')\n",
    "\n",
    "\n",
    "#Grade 11 column\n",
    "\n",
    "grade11r_list = school_data_complete[(school_data_complete.grade == \"11th\")]\n",
    "\n",
    "grade11r_group = grade11r_list.groupby(['school_name'])\n",
    "\n",
    "grade11r_c = grade11r_group['reading_score'].mean().to_frame(name ='11th')\n",
    "\n",
    "\n",
    "#Grade 12 column\n",
    "\n",
    "grade12r_list = school_data_complete[(school_data_complete.grade == \"12th\")]\n",
    "\n",
    "grade12r_group = grade12r_list.groupby(['school_name'])\n",
    "\n",
    "grade12r_c = grade12r_group['reading_score'].mean().to_frame(name ='12th')\n",
    "\n",
    "# final data frame\n",
    "\n",
    "reading_score_bygrade = pd.concat([grade9r_c, grade10r_c, grade11r_c, grade12r_c], axis='columns', sort=False)\n",
    "\n",
    "reading_score_bygrade\n",
    "\n"
   ]
  },
  {
   "cell_type": "markdown",
   "metadata": {},
   "source": [
    "## Scores by School Spending"
   ]
  },
  {
   "cell_type": "markdown",
   "metadata": {},
   "source": [
    "* Create a table that breaks down school performances based on average Spending Ranges (Per Student). Use 4 reasonable bins to group school spending. Include in the table each of the following:\n",
    "  * Average Math Score\n",
    "  * Average Reading Score\n",
    "  * % Passing Math\n",
    "  * % Passing Reading\n",
    "  * Overall Passing Rate (Average of the above two)"
   ]
  },
  {
   "cell_type": "code",
   "execution_count": 264,
   "metadata": {},
   "outputs": [
    {
     "output_type": "execute_result",
     "data": {
      "text/plain": [
       "                               Average Math Score  Average Reading Score  \\\n",
       "Spending Ranges (per student)                                              \n",
       "<$585                                   83.455399              83.933814   \n",
       "$585-630                                81.899826              83.155286   \n",
       "$630-645                                78.518855              81.624473   \n",
       "$645-680                                76.997210              81.027843   \n",
       "\n",
       "                               % Passing Math  % Passing Reading  \\\n",
       "Spending Ranges (per student)                                      \n",
       "<$585                               93.460096          96.610877   \n",
       "$585-630                            87.133538          92.718205   \n",
       "$630-645                            73.484209          84.391793   \n",
       "$645-680                            66.164813          81.133951   \n",
       "\n",
       "                               % Overall Passing  \n",
       "Spending Ranges (per student)                     \n",
       "<$585                                  90.369459  \n",
       "$585-630                               81.418596  \n",
       "$630-645                               62.857656  \n",
       "$645-680                               53.526855  "
      ],
      "text/html": "<div>\n<style scoped>\n    .dataframe tbody tr th:only-of-type {\n        vertical-align: middle;\n    }\n\n    .dataframe tbody tr th {\n        vertical-align: top;\n    }\n\n    .dataframe thead th {\n        text-align: right;\n    }\n</style>\n<table border=\"1\" class=\"dataframe\">\n  <thead>\n    <tr style=\"text-align: right;\">\n      <th></th>\n      <th>Average Math Score</th>\n      <th>Average Reading Score</th>\n      <th>% Passing Math</th>\n      <th>% Passing Reading</th>\n      <th>% Overall Passing</th>\n    </tr>\n    <tr>\n      <th>Spending Ranges (per student)</th>\n      <th></th>\n      <th></th>\n      <th></th>\n      <th></th>\n      <th></th>\n    </tr>\n  </thead>\n  <tbody>\n    <tr>\n      <th>&lt;$585</th>\n      <td>83.455399</td>\n      <td>83.933814</td>\n      <td>93.460096</td>\n      <td>96.610877</td>\n      <td>90.369459</td>\n    </tr>\n    <tr>\n      <th>$585-630</th>\n      <td>81.899826</td>\n      <td>83.155286</td>\n      <td>87.133538</td>\n      <td>92.718205</td>\n      <td>81.418596</td>\n    </tr>\n    <tr>\n      <th>$630-645</th>\n      <td>78.518855</td>\n      <td>81.624473</td>\n      <td>73.484209</td>\n      <td>84.391793</td>\n      <td>62.857656</td>\n    </tr>\n    <tr>\n      <th>$645-680</th>\n      <td>76.997210</td>\n      <td>81.027843</td>\n      <td>66.164813</td>\n      <td>81.133951</td>\n      <td>53.526855</td>\n    </tr>\n  </tbody>\n</table>\n</div>"
     },
     "metadata": {},
     "execution_count": 264
    }
   ],
   "source": [
    "bins = [0,585, 630,645,680]\n",
    "group_labels =[\"<$585\",\"$585-630\",\"$630-645\",\"$645-680\"]\n",
    "\n",
    "summary_school_df_final['Spending Ranges (per student)'] = pd.cut(summary_school_df_final['Per Student Budget'], bins, labels=group_labels)\n",
    "\n",
    "summary_school_df_final.reset_index(drop=True)\n",
    "\n",
    "scores_byspending = summary_school_df_final.groupby(['Spending Ranges (per student)'])\n",
    "\n",
    "scores_byspending_mean = scores_byspending.mean()\n",
    "\n",
    "scores_byspending_final = scores_byspending_mean[['Average Math Score','Average Reading Score','% Passing Math', '% Passing Reading','% Overall Passing']]\n",
    "\n",
    "scores_byspending_final\n"
   ]
  },
  {
   "cell_type": "markdown",
   "metadata": {},
   "source": [
    "## Scores by School Size"
   ]
  },
  {
   "cell_type": "markdown",
   "metadata": {},
   "source": [
    "* Perform the same operations as above, based on school size."
   ]
  },
  {
   "cell_type": "code",
   "execution_count": 267,
   "metadata": {
    "scrolled": true
   },
   "outputs": [
    {
     "output_type": "execute_result",
     "data": {
      "text/plain": [
       "                     Average Math Score  Average Reading Score  \\\n",
       "School Size                                                      \n",
       "Small (<1000)                 83.821598              83.929843   \n",
       "Medium (10000-2000)           83.374684              83.864438   \n",
       "Large (2000-5000)             77.746417              81.344493   \n",
       "\n",
       "                     % Passing Math  % Passing Reading  % Overall Passing  \n",
       "School Size                                                                \n",
       "Small (<1000)             93.550225          96.099437          89.883853  \n",
       "Medium (10000-2000)       93.599695          96.790680          90.621535  \n",
       "Large (2000-5000)         69.963361          82.766634          58.286003  "
      ],
      "text/html": "<div>\n<style scoped>\n    .dataframe tbody tr th:only-of-type {\n        vertical-align: middle;\n    }\n\n    .dataframe tbody tr th {\n        vertical-align: top;\n    }\n\n    .dataframe thead th {\n        text-align: right;\n    }\n</style>\n<table border=\"1\" class=\"dataframe\">\n  <thead>\n    <tr style=\"text-align: right;\">\n      <th></th>\n      <th>Average Math Score</th>\n      <th>Average Reading Score</th>\n      <th>% Passing Math</th>\n      <th>% Passing Reading</th>\n      <th>% Overall Passing</th>\n    </tr>\n    <tr>\n      <th>School Size</th>\n      <th></th>\n      <th></th>\n      <th></th>\n      <th></th>\n      <th></th>\n    </tr>\n  </thead>\n  <tbody>\n    <tr>\n      <th>Small (&lt;1000)</th>\n      <td>83.821598</td>\n      <td>83.929843</td>\n      <td>93.550225</td>\n      <td>96.099437</td>\n      <td>89.883853</td>\n    </tr>\n    <tr>\n      <th>Medium (10000-2000)</th>\n      <td>83.374684</td>\n      <td>83.864438</td>\n      <td>93.599695</td>\n      <td>96.790680</td>\n      <td>90.621535</td>\n    </tr>\n    <tr>\n      <th>Large (2000-5000)</th>\n      <td>77.746417</td>\n      <td>81.344493</td>\n      <td>69.963361</td>\n      <td>82.766634</td>\n      <td>58.286003</td>\n    </tr>\n  </tbody>\n</table>\n</div>"
     },
     "metadata": {},
     "execution_count": 267
    }
   ],
   "source": [
    "bins = [0,1000, 2000,5000]\n",
    "group_labels =['Small (<1000)','Medium (10000-2000)','Large (2000-5000)']\n",
    "\n",
    "summary_school_df_final['School Size'] = pd.cut(summary_school_df_final['Total Students'], bins, labels=group_labels)\n",
    "\n",
    "summary_school_df_final.reset_index(drop=True)\n",
    "\n",
    "scores_bysize = summary_school_df_final.groupby(['School Size'])\n",
    "\n",
    "scores_bysize_mean = scores_bysize.mean()\n",
    "\n",
    "scores_bysize_final = scores_bysize_mean[['Average Math Score','Average Reading Score','% Passing Math', '% Passing Reading','% Overall Passing']]\n",
    "\n",
    "scores_bysize_final"
   ]
  },
  {
   "cell_type": "markdown",
   "metadata": {},
   "source": [
    "## Scores by School Type"
   ]
  },
  {
   "cell_type": "markdown",
   "metadata": {},
   "source": [
    "* Perform the same operations as above, based on school type"
   ]
  },
  {
   "cell_type": "code",
   "execution_count": 268,
   "metadata": {},
   "outputs": [
    {
     "output_type": "execute_result",
     "data": {
      "text/plain": [
       "             Average Math Score  Average Reading Score  % Passing Math  \\\n",
       "School Type                                                              \n",
       "Charter               83.473852              83.896421       93.620830   \n",
       "District              76.956733              80.966636       66.548453   \n",
       "\n",
       "             % Passing Reading  % Overall Passing  \n",
       "School Type                                        \n",
       "Charter              96.586489          90.432244  \n",
       "District             80.799062          53.672208  "
      ],
      "text/html": "<div>\n<style scoped>\n    .dataframe tbody tr th:only-of-type {\n        vertical-align: middle;\n    }\n\n    .dataframe tbody tr th {\n        vertical-align: top;\n    }\n\n    .dataframe thead th {\n        text-align: right;\n    }\n</style>\n<table border=\"1\" class=\"dataframe\">\n  <thead>\n    <tr style=\"text-align: right;\">\n      <th></th>\n      <th>Average Math Score</th>\n      <th>Average Reading Score</th>\n      <th>% Passing Math</th>\n      <th>% Passing Reading</th>\n      <th>% Overall Passing</th>\n    </tr>\n    <tr>\n      <th>School Type</th>\n      <th></th>\n      <th></th>\n      <th></th>\n      <th></th>\n      <th></th>\n    </tr>\n  </thead>\n  <tbody>\n    <tr>\n      <th>Charter</th>\n      <td>83.473852</td>\n      <td>83.896421</td>\n      <td>93.620830</td>\n      <td>96.586489</td>\n      <td>90.432244</td>\n    </tr>\n    <tr>\n      <th>District</th>\n      <td>76.956733</td>\n      <td>80.966636</td>\n      <td>66.548453</td>\n      <td>80.799062</td>\n      <td>53.672208</td>\n    </tr>\n  </tbody>\n</table>\n</div>"
     },
     "metadata": {},
     "execution_count": 268
    }
   ],
   "source": [
    "\n",
    "summary_school_df_final.reset_index(drop=True)\n",
    "\n",
    "scores_bytype = summary_school_df_final.groupby(['School Type'])\n",
    "\n",
    "scores_bytype_mean = scores_bytype.mean()\n",
    "\n",
    "scores_bytype_final = scores_bytype_mean[['Average Math Score','Average Reading Score','% Passing Math', '% Passing Reading','% Overall Passing']]\n",
    "\n",
    "scores_bytype_final"
   ]
  },
  {
   "cell_type": "code",
   "execution_count": null,
   "metadata": {},
   "outputs": [],
   "source": []
  }
 ],
 "metadata": {
  "anaconda-cloud": {},
  "kernel_info": {
   "name": "python3"
  },
  "kernelspec": {
   "name": "python388jvsc74a57bd0dca0ade3e726a953b501b15e8e990130d2b7799f14cfd9f4271676035ebe5511",
   "display_name": "Python 3.8.8 64-bit ('base': conda)"
  },
  "language_info": {
   "codemirror_mode": {
    "name": "ipython",
    "version": 3
   },
   "file_extension": ".py",
   "mimetype": "text/x-python",
   "name": "python",
   "nbconvert_exporter": "python",
   "pygments_lexer": "ipython3",
   "version": "3.8.8"
  },
  "latex_envs": {
   "LaTeX_envs_menu_present": true,
   "autoclose": false,
   "autocomplete": true,
   "bibliofile": "biblio.bib",
   "cite_by": "apalike",
   "current_citInitial": 1,
   "eqLabelWithNumbers": true,
   "eqNumInitial": 1,
   "hotkeys": {
    "equation": "Ctrl-E",
    "itemize": "Ctrl-I"
   },
   "labels_anchors": false,
   "latex_user_defs": false,
   "report_style_numbering": false,
   "user_envs_cfg": false
  },
  "nteract": {
   "version": "0.8.4"
  }
 },
 "nbformat": 4,
 "nbformat_minor": 1
}